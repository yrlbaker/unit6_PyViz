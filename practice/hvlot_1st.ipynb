{
 "cells": [
  {
   "cell_type": "code",
   "execution_count": null,
   "source": [
    "import numpy as np\r\n",
    "import pandas as pd\r\n",
    "import hvplot.pandas"
   ],
   "outputs": [],
   "metadata": {}
  },
  {
   "cell_type": "code",
   "execution_count": null,
   "source": [
    "# Prepare the data\r\n"
   ],
   "outputs": [],
   "metadata": {}
  }
 ],
 "metadata": {
  "orig_nbformat": 4,
  "language_info": {
   "name": "python",
   "version": "3.7.9"
  },
  "kernelspec": {
   "name": "python3",
   "display_name": "Python 3.7.9 64-bit ('pyvizenv': conda)"
  },
  "interpreter": {
   "hash": "7a3d32a6218d68943fb4bced0f053e4f0a0062ef5d74e1d191f38bc0e82907d4"
  }
 },
 "nbformat": 4,
 "nbformat_minor": 2
}